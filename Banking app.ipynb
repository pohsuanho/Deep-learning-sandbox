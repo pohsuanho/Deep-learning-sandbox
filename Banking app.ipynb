{
 "cells": [
  {
   "cell_type": "code",
   "execution_count": 292,
   "id": "8baf4d81",
   "metadata": {},
   "outputs": [],
   "source": [
    "class account:\n",
    "\n",
    "    def __init__(self, account_num, routing_num, curr_amt):\n",
    "        self.account_num = account_num\n",
    "        self.routing_num = routing_num\n",
    "        self.curr_amt = curr_amt\n",
    "    \n",
    "    #add and deduct amount\n",
    "    def add_amount(self, amount):\n",
    "        self.curr_amt = self.curr_amt + amount\n",
    "        \n",
    "    def subtract_amount(self, amount):\n",
    "        self.curr_amt = self.curr_amt - amount\n",
    "        \n",
    "class personal_account(account):\n",
    "    maintenance_fee = 35\n",
    "    \n",
    "    def __init__(self, account_num, routing_num, curr_amt):\n",
    "        super().__init__(account_num, routing_num, curr_amt)\n",
    "        \n",
    "    def apply_maintenance_fee(self):\n",
    "        self.curr_amt = int(self.curr_amt - self.maintenance_fee)\n",
    "\n",
    "\n",
    "class biz_account(account):\n",
    "    maintenance_fee = 55\n",
    "    \n",
    "    def __init__(self, account_num, routing_num, curr_amt):\n",
    "        super().__init__(account_num, routing_num, curr_amt)\n",
    "        \n",
    "    def apply_maintenance_fee(self):\n",
    "        self.curr_amt = int(self.curr_amt - self.maintenance_fee)\n"
   ]
  },
  {
   "cell_type": "code",
   "execution_count": 260,
   "id": "ceed767c",
   "metadata": {},
   "outputs": [],
   "source": []
  },
  {
   "cell_type": "code",
   "execution_count": 294,
   "id": "a171f871",
   "metadata": {},
   "outputs": [
    {
     "name": "stdout",
     "output_type": "stream",
     "text": [
      "0\n"
     ]
    }
   ],
   "source": [
    "acc1 = account(123451,99901,0)\n",
    "acc2 = account(123462,99902,0)\n",
    "print(acc1.curr_amt)"
   ]
  },
  {
   "cell_type": "code",
   "execution_count": 295,
   "id": "20d4cc1a",
   "metadata": {},
   "outputs": [
    {
     "data": {
      "text/plain": [
       "80"
      ]
     },
     "execution_count": 295,
     "metadata": {},
     "output_type": "execute_result"
    }
   ],
   "source": [
    "acc1.add_amount(100)\n",
    "acc1.subtract_amount(20)\n",
    "acc1.curr_amt"
   ]
  },
  {
   "cell_type": "code",
   "execution_count": 276,
   "id": "f4262e85",
   "metadata": {},
   "outputs": [
    {
     "data": {
      "text/plain": [
       "20"
      ]
     },
     "execution_count": 276,
     "metadata": {},
     "output_type": "execute_result"
    }
   ],
   "source": [
    "personal_acc1 = personal_account(223451, 199901, 0)\n",
    "personal_acc1.add_amount(55)\n",
    "personal_acc1.apply_maintenance_fee()\n",
    "personal_acc1.curr_amt"
   ]
  },
  {
   "cell_type": "code",
   "execution_count": null,
   "id": "03587bf0",
   "metadata": {},
   "outputs": [],
   "source": []
  }
 ],
 "metadata": {
  "kernelspec": {
   "display_name": "Python 3 (ipykernel)",
   "language": "python",
   "name": "python3"
  },
  "language_info": {
   "codemirror_mode": {
    "name": "ipython",
    "version": 3
   },
   "file_extension": ".py",
   "mimetype": "text/x-python",
   "name": "python",
   "nbconvert_exporter": "python",
   "pygments_lexer": "ipython3",
   "version": "3.9.13"
  }
 },
 "nbformat": 4,
 "nbformat_minor": 5
}
