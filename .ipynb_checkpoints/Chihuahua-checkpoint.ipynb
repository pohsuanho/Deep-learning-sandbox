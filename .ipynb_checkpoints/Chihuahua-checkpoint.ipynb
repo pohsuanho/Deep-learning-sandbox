{
 "cells": [
  {
   "cell_type": "code",
   "execution_count": null,
   "id": "1409d53d",
   "metadata": {},
   "outputs": [],
   "source": [
    "'''\n",
    "Differenciate pictures of chihuahua from muffins\n",
    "Data from: https://github.com/rcgc/chihuahua-muffin\n",
    "'''"
   ]
  },
  {
   "cell_type": "code",
   "execution_count": 1,
   "id": "0b47e20e",
   "metadata": {},
   "outputs": [],
   "source": [
    "import torch\n",
    "from torch import nn\n",
    "from torch.utils.data import DataLoader\n",
    "from torchvision import datasets\n",
    "from torchvision.transforms import ToTensor\n",
    "import os\n",
    "import pandas as pd\n",
    "from torchvision.io import read_image\n",
    "from torch.utils.data import Dataset, DataLoader"
   ]
  },
  {
   "cell_type": "code",
   "execution_count": 2,
   "id": "756c9a49",
   "metadata": {},
   "outputs": [],
   "source": [
    "# train_df = pd.DataFrame(columns=[\"img_name\",\"label\"])\n",
    "# train_df[\"img_name\"] = os.listdir(path_train)\n",
    "# for idx, i in enumerate(os.listdir(path_train)):\n",
    "#     if \"cat\" in i:\n",
    "#         train_df[\"label\"][idx] = 0\n",
    "#     if \"dog\" in i:\n",
    "#         train_df[\"label\"][idx] = 1\n",
    "\n",
    "# train_df.to_csv (r'train_csv.csv', index = False, header=True)\n",
    "#path = \"/Users/poho/Documents/Data/chic_muff\"\n",
    "path_to_data = \"/Users/poho/Documents/Data/pos_dog_muffin\"\n",
    "#create an empty dataframe for annotation df\n",
    "# annotation_df = pd.DataFrame(columns = ['img_name', 'label'])\n",
    "# #list all directories\n",
    "# annotation_df['img_name'] = os.listdir(path_to_data)\n",
    "# #label files with chihuahua as 0 and muffin as 1\n",
    "# for idx, i in enumerate(os.listdir(path_to_data)):\n",
    "#     if 'chihuahua' in i:\n",
    "#         annotation_df['label'][idx] = 0\n",
    "#     if 'muffin' in i:\n",
    "#         annotation_df['label'][idx] = 1\n",
    "        \n",
    "# annotation_df.to_csv(r'annotations.csv', index = False, header = True)"
   ]
  },
  {
   "cell_type": "code",
   "execution_count": 8,
   "id": "b79de224",
   "metadata": {},
   "outputs": [],
   "source": [
    "#https://pytorch.org/tutorials/beginner/basics/data_tutorial.html\n",
    "# class ChiMuffin(Dataset):\n",
    "#     def __init__(self, annotation_df, img_dir, transform= None, target_transform = None):\n",
    "#         #storing image labels(ground truth)\n",
    "#         self.img_labels = pd.read_csv(annotation_df)\n",
    "#         #storing image directory\n",
    "#         self.img_dir = img_dir\n",
    "#         self.transform = transform\n",
    "#         self.target_transform = target_transform\n",
    "        \n",
    "#     def __len__(self):\n",
    "#         return len(self.imag_labels)\n",
    "    \n",
    "#     def __getitem__(self, idx):\n",
    "#         #get the path to images\n",
    "#         img_path = os.path.join(self.img_dir, self.img_labels.iloc[idx, 0])\n",
    "#         #put the image in the memory\n",
    "#         image = read_image(img_path)\n",
    "#         #get the label\n",
    "#         label = self.img_labels.iloc[idx, 1]\n",
    "#         #perform trasnformation\n",
    "#         if self.transform:\n",
    "#             image = self.transform(image)\n",
    "#         if self.target_transform:\n",
    "#             label = self.target_transform(label)\n",
    "#         return image, label\n",
    "        "
   ]
  },
  {
   "cell_type": "code",
   "execution_count": 4,
   "id": "cf999914",
   "metadata": {},
   "outputs": [],
   "source": [
    "#https://debuggercafe.com/pytorch-imagefolder-for-training-cnn-models/\n",
    "#transform images to the same size(pixel 400*400)\n",
    "import torchvision.transforms as transforms\n",
    "train_transform = transforms.Compose([\n",
    "    transforms.Resize((400,400)),\n",
    "    transforms.RandomHorizontalFlip(p=0.5),\n",
    "    transforms.RandomVerticalFlip(p=0.5),\n",
    "    transforms.GaussianBlur(kernel_size=(5, 9), sigma=(0.1, 5)),\n",
    "    transforms.RandomRotation(degrees=(30, 70)),\n",
    "    transforms.ToTensor(),\n",
    "    transforms.Normalize(\n",
    "        mean=[0.5, 0.5, 0.5],\n",
    "        std=[0.5, 0.5, 0.5])\n",
    "])\n",
    "\n",
    "valid_transform = transforms.Compose([\n",
    "    transforms.Resize((400, 400)),\n",
    "    transforms.ToTensor(),\n",
    "    transforms.Normalize(\n",
    "        mean=[0.5, 0.5, 0.5],\n",
    "        std=[0.5, 0.5, 0.5]\n",
    "    )\n",
    "])"
   ]
  },
  {
   "cell_type": "code",
   "execution_count": 5,
   "id": "3be8751e",
   "metadata": {},
   "outputs": [],
   "source": [
    "new_path = \"/Users/poho/Documents/Data/chic_muff\"\n",
    "ChiMuffin_dataset = datasets.ImageFolder(root=new_path,\n",
    "                                           transform=train_transform)\n",
    "\n",
    "dataset_loader = torch.utils.data.DataLoader(ChiMuffin_dataset,\n",
    "                                             batch_size=4, shuffle=True,\n",
    "                                             num_workers=4)\n",
    "\n",
    "new_path_val = \"/Users/poho/Documents/Data/chic_muff_val\"\n",
    "ChiMuffin_dataset_val = datasets.ImageFolder(root=new_path_val,\n",
    "                                           transform=valid_transform)\n",
    "\n",
    "dataset_loader_val = torch.utils.data.DataLoader(ChiMuffin_dataset_val,\n",
    "                                             batch_size=4, shuffle=True,\n",
    "                                             num_workers=4)\n"
   ]
  },
  {
   "cell_type": "code",
   "execution_count": 6,
   "id": "aa5c3977",
   "metadata": {},
   "outputs": [
    {
     "data": {
      "text/plain": [
       "1120"
      ]
     },
     "execution_count": 6,
     "metadata": {},
     "output_type": "execute_result"
    }
   ],
   "source": [
    "#checking number of training dataset (80% training data 20% validation)\n",
    "# len(dataset_loader)*4"
   ]
  },
  {
   "cell_type": "code",
   "execution_count": 7,
   "id": "b9c5d66a",
   "metadata": {},
   "outputs": [],
   "source": [
    "import torch.nn as nn\n",
    "import torch.nn.functional as F\n",
    "class CNNModel(nn.Module):\n",
    "    def __init__(self):\n",
    "        super(CNNModel, self).__init__()\n",
    "        self.conv1 = nn.Conv2d(3, 32, 5)\n",
    "        self.conv2 = nn.Conv2d(32, 64, 5)\n",
    "        self.conv3 = nn.Conv2d(64, 128, 3)\n",
    "        self.conv4 = nn.Conv2d(128, 256, 5)\n",
    "        \n",
    "        self.fc1 = nn.Linear(256, 2)\n",
    "        \n",
    "        self.pool = nn.MaxPool2d(2, 2)\n",
    "        \n",
    "    def forward(self, x):\n",
    "        x = self.pool(F.relu(self.conv1(x)))\n",
    "        x = self.pool(F.relu(self.conv2(x)))\n",
    "        x = self.pool(F.relu(self.conv3(x)))\n",
    "        x = self.pool(F.relu(self.conv4(x)))\n",
    "        bs, _, _, _ = x.shape\n",
    "        x = F.adaptive_avg_pool2d(x, 1).reshape(bs, -1)\n",
    "        x = self.fc1(x)\n",
    "        return x\n"
   ]
  },
  {
   "cell_type": "code",
   "execution_count": 8,
   "id": "ea28f4fa",
   "metadata": {},
   "outputs": [
    {
     "ename": "ModuleNotFoundError",
     "evalue": "No module named 'tqdm'",
     "output_type": "error",
     "traceback": [
      "\u001b[0;31m---------------------------------------------------------------------------\u001b[0m",
      "\u001b[0;31mModuleNotFoundError\u001b[0m                       Traceback (most recent call last)",
      "Cell \u001b[0;32mIn[8], line 4\u001b[0m\n\u001b[1;32m      2\u001b[0m \u001b[38;5;28;01mimport\u001b[39;00m \u001b[38;5;21;01mtorch\u001b[39;00m\u001b[38;5;21;01m.\u001b[39;00m\u001b[38;5;21;01mnn\u001b[39;00m \u001b[38;5;28;01mas\u001b[39;00m \u001b[38;5;21;01mnn\u001b[39;00m\n\u001b[1;32m      3\u001b[0m \u001b[38;5;28;01mimport\u001b[39;00m \u001b[38;5;21;01mtorch\u001b[39;00m\u001b[38;5;21;01m.\u001b[39;00m\u001b[38;5;21;01moptim\u001b[39;00m \u001b[38;5;28;01mas\u001b[39;00m \u001b[38;5;21;01moptim\u001b[39;00m\n\u001b[0;32m----> 4\u001b[0m \u001b[38;5;28;01mfrom\u001b[39;00m \u001b[38;5;21;01mtqdm\u001b[39;00m\u001b[38;5;21;01m.\u001b[39;00m\u001b[38;5;21;01mauto\u001b[39;00m \u001b[38;5;28;01mimport\u001b[39;00m tqdm\n\u001b[1;32m      7\u001b[0m \u001b[38;5;66;03m# learning_parameters \u001b[39;00m\n\u001b[1;32m      8\u001b[0m lr \u001b[38;5;241m=\u001b[39m \u001b[38;5;241m1e-3\u001b[39m\n",
      "\u001b[0;31mModuleNotFoundError\u001b[0m: No module named 'tqdm'"
     ]
    }
   ],
   "source": [
    "import torch\n",
    "import torch.nn as nn\n",
    "import torch.optim as optim\n",
    "from tqdm.auto import tqdm\n",
    "\n",
    "\n",
    "# learning_parameters \n",
    "lr = 1e-3\n",
    "epochs = 20\n",
    "device = ('cuda' if torch.cuda.is_available() else 'cpu')\n",
    "print(f\"Computation device: {device}\\n\")\n",
    "model = CNNModel().to(device)\n",
    "print(model)\n",
    "\n",
    "# optimizer\n",
    "optimizer = optim.Adam(model.parameters(), lr=lr)\n",
    "# loss function\n",
    "criterion = nn.CrossEntropyLoss()"
   ]
  },
  {
   "cell_type": "code",
   "execution_count": null,
   "id": "5e5d8f35",
   "metadata": {},
   "outputs": [],
   "source": []
  }
 ],
 "metadata": {
  "kernelspec": {
   "display_name": "Python 3 (ipykernel)",
   "language": "python",
   "name": "python3"
  },
  "language_info": {
   "codemirror_mode": {
    "name": "ipython",
    "version": 3
   },
   "file_extension": ".py",
   "mimetype": "text/x-python",
   "name": "python",
   "nbconvert_exporter": "python",
   "pygments_lexer": "ipython3",
   "version": "3.10.9"
  }
 },
 "nbformat": 4,
 "nbformat_minor": 5
}
