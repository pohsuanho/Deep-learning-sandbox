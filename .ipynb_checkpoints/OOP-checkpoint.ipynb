{
 "cells": [
  {
   "cell_type": "code",
   "execution_count": 105,
   "id": "282f02af",
   "metadata": {},
   "outputs": [],
   "source": [
    "class employee:\n",
    "    num_of_emps = 0\n",
    "    raise_amount = 1.04\n",
    "    \n",
    "    def __init__(self, first, last, pay):\n",
    "        self.first = first\n",
    "        self.last = last\n",
    "        self.pay = pay\n",
    "        self.email = first +'.'+ last + '@company.com'\n",
    "        employee.num_of_emps += 1\n",
    "        \n",
    "    def fullname(self):\n",
    "        return '{} {}'.format(self.first, self.last)\n",
    "    \n",
    "    def apply_raise(self):\n",
    "        self.pay = int(self.pay * self.raise_amount)\n",
    "        \n",
    "    #Alternative constructor\n",
    "    @classmethod\n",
    "    def from_string(cls, emp_str):\n",
    "        first, last, pay = emp_str.split('-')\n",
    "        return cls(first, last, pay)\n",
    "    \n",
    "    @staticmethod\n",
    "    def is_workday(day):\n",
    "        if day.weekday() == 5 or day.weekday() == 6:\n",
    "            return False\n",
    "        return True\n",
    "    \n",
    "    \n",
    "class developer(employee):\n",
    "    raise_amount = 1.1\n",
    "    \n",
    "    def __init__(self, first, last, pay, prog_lang):\n",
    "        super().__init__(first, last, pay)\n",
    "        self.prog_lang = prog_lang\n",
    "        \n",
    "        \n",
    "class manager(employee):\n",
    "    \n",
    "    def __init__(self, first, last, pay, employees = None):\n",
    "        super().__init__(first, last, pay)\n",
    "        if employees is None:\n",
    "            self.employees = []\n",
    "        else:\n",
    "            self.employees = employees\n",
    "            \n",
    "    def add_emp(self, emp):\n",
    "        if emp not in self.employees:\n",
    "            self.employees.append(emp)\n",
    "            \n",
    "    def remove_emp(self, emp):\n",
    "        if emp in self.employees:\n",
    "            self.employees.remove(emp)\n",
    "            \n",
    "    def print_emps(self):\n",
    "        for emp in self.employees:\n",
    "            print('-->', emp.fullname())\n",
    "            \n",
    "            "
   ]
  },
  {
   "cell_type": "code",
   "execution_count": 89,
   "id": "ebbaa70d",
   "metadata": {},
   "outputs": [
    {
     "name": "stdout",
     "output_type": "stream",
     "text": [
      "1.05\n",
      "1.04\n"
     ]
    }
   ],
   "source": [
    "emp_1 = employee('Po', 'Ho', 100)\n",
    "emp_2 = employee('Op', 'Oh', 200)\n",
    "\n",
    "\n",
    "emp_1.raise_amount= 1.05\n",
    "print(emp_1.raise_amount)\n",
    "print(employee.raise_amount)"
   ]
  },
  {
   "cell_type": "code",
   "execution_count": 28,
   "id": "06a26aba",
   "metadata": {},
   "outputs": [
    {
     "name": "stdout",
     "output_type": "stream",
     "text": [
      "2\n"
     ]
    }
   ],
   "source": [
    "print(employee.num_of_emps)"
   ]
  },
  {
   "cell_type": "code",
   "execution_count": 33,
   "id": "611d210e",
   "metadata": {},
   "outputs": [
    {
     "data": {
      "text/plain": [
       "'John.Doe@company.com'"
      ]
     },
     "execution_count": 33,
     "metadata": {},
     "output_type": "execute_result"
    }
   ],
   "source": [
    "emp_str_1 = \"John-Doe-700\"\n",
    "employee.from_string(emp_str_1).email"
   ]
  },
  {
   "cell_type": "code",
   "execution_count": 45,
   "id": "f74ac13e",
   "metadata": {},
   "outputs": [
    {
     "name": "stdout",
     "output_type": "stream",
     "text": [
      "False\n",
      "True\n"
     ]
    }
   ],
   "source": [
    "import datetime\n",
    "from datetime import date\n",
    "my_date = datetime.date(2016, 7,10)\n",
    "my_date_1 = date.today()\n",
    "print(employee.is_workday(my_date))\n",
    "print(employee.is_workday(my_date_1))"
   ]
  },
  {
   "cell_type": "code",
   "execution_count": 114,
   "id": "f6febcaf",
   "metadata": {},
   "outputs": [
    {
     "name": "stdout",
     "output_type": "stream",
     "text": [
      "220\n"
     ]
    }
   ],
   "source": [
    "dev_1 = developer('Cary', 'Argos', 200, 'C')\n",
    "dev_2 = developer('Alicia', 'Florrick', 300, 'C++')\n",
    "dev_1.apply_raise()\n",
    "print(dev_1.pay)"
   ]
  },
  {
   "cell_type": "code",
   "execution_count": 50,
   "id": "5df2c69c",
   "metadata": {},
   "outputs": [],
   "source": [
    "# print(help(developer))"
   ]
  },
  {
   "cell_type": "code",
   "execution_count": 110,
   "id": "607b5fd5",
   "metadata": {},
   "outputs": [
    {
     "name": "stdout",
     "output_type": "stream",
     "text": [
      "Python\n"
     ]
    }
   ],
   "source": [
    "dev_1 = developer('Mary', 'Lamb', 50, 'Python')\n",
    "print(dev_1.prog_lang)"
   ]
  },
  {
   "cell_type": "code",
   "execution_count": 112,
   "id": "70fa4d96",
   "metadata": {},
   "outputs": [
    {
     "name": "stdout",
     "output_type": "stream",
     "text": [
      "--> Mary Lamb\n"
     ]
    }
   ],
   "source": [
    "man_1 = manager(\"Jon\", \"Kim\", 90, [dev_1])\n",
    "man_1.print_emps()"
   ]
  },
  {
   "cell_type": "code",
   "execution_count": 116,
   "id": "428156f4",
   "metadata": {},
   "outputs": [
    {
     "name": "stdout",
     "output_type": "stream",
     "text": [
      "--> Mary Lamb\n",
      "--> Alicia Florrick\n"
     ]
    }
   ],
   "source": [
    "man_1.add_emp(dev_2)\n",
    "man_1.print_emps()"
   ]
  },
  {
   "cell_type": "code",
   "execution_count": 119,
   "id": "4ee219da",
   "metadata": {},
   "outputs": [
    {
     "name": "stdout",
     "output_type": "stream",
     "text": [
      "False\n"
     ]
    }
   ],
   "source": [
    "print(isinstance(man_1, developer))"
   ]
  },
  {
   "cell_type": "code",
   "execution_count": null,
   "id": "d21959cb",
   "metadata": {},
   "outputs": [],
   "source": [
    "\"\"\"\n",
    "Procedural programming: \n",
    "Make use of a step by step approach for breaking down a task into a collection of routines. \n",
    "It carries out each step systematically in order.\n",
    "\n",
    "Object Oriented programming: \n",
    "Use objects and classes for creating models based on the real-world environment. \n",
    "This model makes it very easy for a user to modify and maintain the existing code while adding new objects \n",
    "by inheriting the characteristics of the present ones.\n",
    "\"\"\""
   ]
  },
  {
   "cell_type": "code",
   "execution_count": null,
   "id": "8be99ccd",
   "metadata": {},
   "outputs": [],
   "source": [
    "#An object is a collection of data (variables) and methods (functions). \n",
    "#A class is a blueprint for that object. \n",
    "#Memory management in Python involves the management of a private heap. \n",
    "#A private heap is a portion of memory that is exclusive to the Python process. All Python objects and data structures are stored in the private heap. \n",
    "#The operating system cannot allocate this piece of memory to another process."
   ]
  },
  {
   "cell_type": "code",
   "execution_count": null,
   "id": "4aeb248a",
   "metadata": {},
   "outputs": [],
   "source": []
  },
  {
   "cell_type": "code",
   "execution_count": null,
   "id": "43c4107c",
   "metadata": {},
   "outputs": [],
   "source": []
  },
  {
   "cell_type": "code",
   "execution_count": null,
   "id": "2d38ff01",
   "metadata": {},
   "outputs": [],
   "source": []
  },
  {
   "cell_type": "code",
   "execution_count": null,
   "id": "3a80b295",
   "metadata": {},
   "outputs": [],
   "source": []
  },
  {
   "cell_type": "code",
   "execution_count": null,
   "id": "a6eba109",
   "metadata": {},
   "outputs": [],
   "source": []
  },
  {
   "cell_type": "code",
   "execution_count": null,
   "id": "43601d15",
   "metadata": {},
   "outputs": [],
   "source": []
  },
  {
   "cell_type": "code",
   "execution_count": null,
   "id": "e30aa25d",
   "metadata": {},
   "outputs": [],
   "source": []
  },
  {
   "cell_type": "code",
   "execution_count": null,
   "id": "f66a4a0a",
   "metadata": {},
   "outputs": [],
   "source": []
  },
  {
   "cell_type": "code",
   "execution_count": null,
   "id": "46a08b21",
   "metadata": {},
   "outputs": [],
   "source": []
  },
  {
   "cell_type": "code",
   "execution_count": null,
   "id": "996faa66",
   "metadata": {},
   "outputs": [],
   "source": []
  },
  {
   "cell_type": "code",
   "execution_count": null,
   "id": "9dbb93bf",
   "metadata": {},
   "outputs": [],
   "source": []
  }
 ],
 "metadata": {
  "kernelspec": {
   "display_name": "Python 3 (ipykernel)",
   "language": "python",
   "name": "python3"
  },
  "language_info": {
   "codemirror_mode": {
    "name": "ipython",
    "version": 3
   },
   "file_extension": ".py",
   "mimetype": "text/x-python",
   "name": "python",
   "nbconvert_exporter": "python",
   "pygments_lexer": "ipython3",
   "version": "3.9.13"
  }
 },
 "nbformat": 4,
 "nbformat_minor": 5
}
