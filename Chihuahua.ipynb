{
 "cells": [
  {
   "cell_type": "code",
   "execution_count": 1,
   "id": "1409d53d",
   "metadata": {},
   "outputs": [
    {
     "data": {
      "text/plain": [
       "'\\nDifferenciate pictures of chihuahua from muffins\\nData from: https://github.com/rcgc/chihuahua-muffin\\n'"
      ]
     },
     "execution_count": 1,
     "metadata": {},
     "output_type": "execute_result"
    }
   ],
   "source": [
    "'''\n",
    "Differenciate pictures of chihuahua from muffins\n",
    "Data from: https://github.com/rcgc/chihuahua-muffin\n",
    "'''"
   ]
  },
  {
   "cell_type": "code",
   "execution_count": 2,
   "id": "0b47e20e",
   "metadata": {},
   "outputs": [],
   "source": [
    "import torch\n",
    "from torch import nn\n",
    "from torch.utils.data import DataLoader\n",
    "from torchvision import datasets\n",
    "from torchvision.transforms import ToTensor\n",
    "import os\n",
    "import pandas as pd\n",
    "from torchvision.io import read_image\n",
    "from torch.utils.data import Dataset, DataLoader"
   ]
  },
  {
   "cell_type": "code",
   "execution_count": 3,
   "id": "756c9a49",
   "metadata": {},
   "outputs": [],
   "source": [
    "# train_df = pd.DataFrame(columns=[\"img_name\",\"label\"])\n",
    "# train_df[\"img_name\"] = os.listdir(path_train)\n",
    "# for idx, i in enumerate(os.listdir(path_train)):\n",
    "#     if \"cat\" in i:\n",
    "#         train_df[\"label\"][idx] = 0\n",
    "#     if \"dog\" in i:\n",
    "#         train_df[\"label\"][idx] = 1\n",
    "\n",
    "# train_df.to_csv (r'train_csv.csv', index = False, header=True)\n",
    "#path = \"/Users/poho/Documents/Data/chic_muff\"\n",
    "path_to_data = \"/Users/poho/Documents/Data/pos_dog_muffin\"\n",
    "#create an empty dataframe for annotation df\n",
    "# annotation_df = pd.DataFrame(columns = ['img_name', 'label'])\n",
    "# #list all directories\n",
    "# annotation_df['img_name'] = os.listdir(path_to_data)\n",
    "# #label files with chihuahua as 0 and muffin as 1\n",
    "# for idx, i in enumerate(os.listdir(path_to_data)):\n",
    "#     if 'chihuahua' in i:\n",
    "#         annotation_df['label'][idx] = 0\n",
    "#     if 'muffin' in i:\n",
    "#         annotation_df['label'][idx] = 1\n",
    "        \n",
    "# annotation_df.to_csv(r'annotations.csv', index = False, header = True)"
   ]
  },
  {
   "cell_type": "code",
   "execution_count": 4,
   "id": "b79de224",
   "metadata": {},
   "outputs": [],
   "source": [
    "#https://pytorch.org/tutorials/beginner/basics/data_tutorial.html\n",
    "# class ChiMuffin(Dataset):\n",
    "#     def __init__(self, annotation_df, img_dir, transform= None, target_transform = None):\n",
    "#         #storing image labels(ground truth)\n",
    "#         self.img_labels = pd.read_csv(annotation_df)\n",
    "#         #storing image directory\n",
    "#         self.img_dir = img_dir\n",
    "#         self.transform = transform\n",
    "#         self.target_transform = target_transform\n",
    "        \n",
    "#     def __len__(self):\n",
    "#         return len(self.imag_labels)\n",
    "    \n",
    "#     def __getitem__(self, idx):\n",
    "#         #get the path to images\n",
    "#         img_path = os.path.join(self.img_dir, self.img_labels.iloc[idx, 0])\n",
    "#         #put the image in the memory\n",
    "#         image = read_image(img_path)\n",
    "#         #get the label\n",
    "#         label = self.img_labels.iloc[idx, 1]\n",
    "#         #perform trasnformation\n",
    "#         if self.transform:\n",
    "#             image = self.transform(image)\n",
    "#         if self.target_transform:\n",
    "#             label = self.target_transform(label)\n",
    "#         return image, label\n",
    "        "
   ]
  },
  {
   "cell_type": "code",
   "execution_count": 5,
   "id": "cf999914",
   "metadata": {},
   "outputs": [],
   "source": [
    "#https://debuggercafe.com/pytorch-imagefolder-for-training-cnn-models/\n",
    "#transform images to the same size(pixel 400*400)\n",
    "import torchvision.transforms as transforms\n",
    "train_transform = transforms.Compose([\n",
    "    transforms.Resize((400,400)),\n",
    "    transforms.RandomHorizontalFlip(p=0.5),\n",
    "    transforms.RandomVerticalFlip(p=0.5),\n",
    "    transforms.GaussianBlur(kernel_size=(5, 9), sigma=(0.1, 5)),\n",
    "    transforms.RandomRotation(degrees=(30, 70)),\n",
    "    transforms.ToTensor(),\n",
    "    transforms.Normalize(\n",
    "        mean=[0.5, 0.5, 0.5],\n",
    "        std=[0.5, 0.5, 0.5])\n",
    "])\n",
    "\n",
    "valid_transform = transforms.Compose([\n",
    "    transforms.Resize((400, 400)),\n",
    "    transforms.ToTensor(),\n",
    "    transforms.Normalize(\n",
    "        mean=[0.5, 0.5, 0.5],\n",
    "        std=[0.5, 0.5, 0.5]\n",
    "    )\n",
    "])"
   ]
  },
  {
   "cell_type": "code",
   "execution_count": 6,
   "id": "3be8751e",
   "metadata": {},
   "outputs": [],
   "source": [
    "new_path = \"/Users/poho/Documents/Data/chic_muff\"\n",
    "ChiMuffin_dataset = datasets.ImageFolder(root=new_path,\n",
    "                                           transform=train_transform)\n",
    "\n",
    "dataset_loader = torch.utils.data.DataLoader(ChiMuffin_dataset,\n",
    "                                             batch_size=4, shuffle=True,\n",
    "                                             num_workers=4)\n",
    "\n",
    "new_path_val = \"/Users/poho/Documents/Data/chic_muff_val\"\n",
    "ChiMuffin_dataset_val = datasets.ImageFolder(root=new_path_val,\n",
    "                                           transform=valid_transform)\n",
    "\n",
    "dataset_loader_val = torch.utils.data.DataLoader(ChiMuffin_dataset_val,\n",
    "                                             batch_size=4, shuffle=True,\n",
    "                                             num_workers=4)\n"
   ]
  },
  {
   "cell_type": "code",
   "execution_count": 7,
   "id": "aa5c3977",
   "metadata": {},
   "outputs": [],
   "source": [
    "#checking number of training dataset (80% training data 20% validation)\n",
    "# len(dataset_loader)*4"
   ]
  },
  {
   "cell_type": "code",
   "execution_count": 11,
   "id": "b9c5d66a",
   "metadata": {},
   "outputs": [],
   "source": [
    "import torch.nn as nn\n",
    "import torch.nn.functional as F\n",
    "class CNNModel(nn.Module):\n",
    "    def __init__(self):\n",
    "        super(CNNModel, self).__init__()\n",
    "        self.conv1 = nn.Conv2d(3, 32, 5)\n",
    "        self.conv2 = nn.Conv2d(32, 64, 5)\n",
    "        self.conv3 = nn.Conv2d(64, 128, 3)\n",
    "        self.conv4 = nn.Conv2d(128, 256, 5)\n",
    "        \n",
    "        self.fc1 = nn.Linear(256, 2)\n",
    "        \n",
    "        self.pool = nn.MaxPool2d(2, 2)\n",
    "        \n",
    "    def forward(self, x):\n",
    "        x = self.pool(F.relu(self.conv1(x)))\n",
    "        x = self.pool(F.relu(self.conv2(x)))\n",
    "        x = self.pool(F.relu(self.conv3(x)))\n",
    "        x = self.pool(F.relu(self.conv4(x)))\n",
    "        bs, _, _, _ = x.shape\n",
    "        x = F.adaptive_avg_pool2d(x, 1).reshape(bs, -1)\n",
    "        x = self.fc1(x)\n",
    "        return x"
   ]
  },
  {
   "cell_type": "code",
   "execution_count": 9,
   "id": "ea28f4fa",
   "metadata": {},
   "outputs": [
    {
     "name": "stdout",
     "output_type": "stream",
     "text": [
      "Computation device: cpu\n",
      "\n",
      "CNNModel(\n",
      "  (conv1): Conv2d(3, 32, kernel_size=(5, 5), stride=(1, 1))\n",
      "  (conv2): Conv2d(32, 64, kernel_size=(5, 5), stride=(1, 1))\n",
      "  (conv3): Conv2d(64, 128, kernel_size=(3, 3), stride=(1, 1))\n",
      "  (conv4): Conv2d(128, 256, kernel_size=(5, 5), stride=(1, 1))\n",
      "  (fc1): Linear(in_features=256, out_features=2, bias=True)\n",
      "  (pool): MaxPool2d(kernel_size=2, stride=2, padding=0, dilation=1, ceil_mode=False)\n",
      ")\n"
     ]
    }
   ],
   "source": [
    "import torch\n",
    "import torch.nn as nn\n",
    "import torch.optim as optim\n",
    "from tqdm.auto import tqdm\n",
    "\n",
    "\n",
    "# learning_parameters \n",
    "lr = 1e-3\n",
    "epochs = 20\n",
    "device = ('cuda' if torch.cuda.is_available() else 'cpu')\n",
    "print(f\"Computation device: {device}\\n\")\n",
    "model = CNNModel().to(device)\n",
    "print(model)\n",
    "\n",
    "# optimizer\n",
    "optimizer = optim.Adam(model.parameters(), lr=lr)\n",
    "# loss function\n",
    "criterion = nn.CrossEntropyLoss()"
   ]
  },
  {
   "cell_type": "code",
   "execution_count": 12,
   "id": "5e5d8f35",
   "metadata": {},
   "outputs": [],
   "source": [
    "# def train(epochs, model, optimizer, criterion, train_iterator, valid_iterator):\n",
    "#     for epoch in range(1, epochs + 1):\n",
    "#         training_loss = 0.0 #0.0 because you want it to be float\n",
    "#         valid_loss = 0.0\n",
    "#         model.train()\n",
    "#         for batch_idx, batch in enumerate(train_iterator):\n",
    "#             opt.zero_grad() #initialize our gradient to zero\n",
    "#             preidct = model(batch.tweet)\n",
    "        \n",
    "def train(dataloader, model, loss_fn, optimizer):\n",
    "    size = len(dataloader.dataset)\n",
    "    model.train()\n",
    "    for batch, (X, y) in enumerate(dataloader):\n",
    "        X, y = X.to(device), y.to(device)\n",
    "\n",
    "        # Compute prediction error\n",
    "        pred = model(X)\n",
    "        loss = loss_fn(pred, y)\n",
    "\n",
    "        # Backpropagation\n",
    "        optimizer.zero_grad()\n",
    "        loss.backward()\n",
    "        optimizer.step()\n",
    "\n",
    "        if batch % 100 == 0:\n",
    "            loss, current = loss.item(), (batch + 1) * len(X)\n",
    "            print(f\"loss: {loss:>7f}  [{current:>5d}/{size:>5d}]\")\n",
    "def test(dataloader, model, loss_fn):\n",
    "    size = len(dataloader.dataset)\n",
    "    num_batches = len(dataloader)\n",
    "    model.eval()\n",
    "    test_loss, correct = 0, 0\n",
    "    with torch.no_grad():\n",
    "        for X, y in dataloader:\n",
    "            X, y = X.to(device), y.to(device)\n",
    "            pred = model(X)\n",
    "            test_loss += loss_fn(pred, y).item()\n",
    "            correct += (pred.argmax(1) == y).type(torch.float).sum().item()\n",
    "    test_loss /= num_batches\n",
    "    correct /= size\n",
    "    print(f\"Test Error: \\n Accuracy: {(100*correct):>0.1f}%, Avg loss: {test_loss:>8f} \\n\")"
   ]
  },
  {
   "cell_type": "code",
   "execution_count": 16,
   "id": "25891da5",
   "metadata": {},
   "outputs": [
    {
     "name": "stdout",
     "output_type": "stream",
     "text": [
      "Epoch 1\n",
      "-------------------------------\n",
      "loss: 0.687502  [    4/ 1118]\n",
      "loss: 0.572710  [  404/ 1118]\n",
      "loss: 0.365624  [  804/ 1118]\n",
      "Test Error: \n",
      " Accuracy: 75.9%, Avg loss: 0.601196 \n",
      "\n",
      "Epoch 2\n",
      "-------------------------------\n",
      "loss: 0.401916  [    4/ 1118]\n",
      "loss: 0.604441  [  404/ 1118]\n",
      "loss: 0.214441  [  804/ 1118]\n",
      "Test Error: \n",
      " Accuracy: 86.5%, Avg loss: 0.371201 \n",
      "\n",
      "Epoch 3\n",
      "-------------------------------\n",
      "loss: 0.342858  [    4/ 1118]\n",
      "loss: 0.488919  [  404/ 1118]\n",
      "loss: 0.185936  [  804/ 1118]\n",
      "Test Error: \n",
      " Accuracy: 86.9%, Avg loss: 0.355391 \n",
      "\n",
      "Epoch 4\n",
      "-------------------------------\n",
      "loss: 0.417994  [    4/ 1118]\n",
      "loss: 0.197935  [  404/ 1118]\n",
      "loss: 0.440636  [  804/ 1118]\n",
      "Test Error: \n",
      " Accuracy: 86.5%, Avg loss: 0.297877 \n",
      "\n",
      "Epoch 5\n",
      "-------------------------------\n",
      "loss: 0.121506  [    4/ 1118]\n",
      "loss: 0.266073  [  404/ 1118]\n",
      "loss: 1.426667  [  804/ 1118]\n",
      "Test Error: \n",
      " Accuracy: 80.1%, Avg loss: 0.487669 \n",
      "\n",
      "Done!\n"
     ]
    }
   ],
   "source": [
    "epochs = 5\n",
    "for t in range(epochs):\n",
    "    print(f\"Epoch {t+1}\\n-------------------------------\")\n",
    "    train(dataset_loader, model, criterion, optimizer)\n",
    "    test(dataset_loader_val, model, criterion)\n",
    "print(\"Done!\")"
   ]
  },
  {
   "cell_type": "code",
   "execution_count": null,
   "id": "1b768766",
   "metadata": {},
   "outputs": [],
   "source": []
  }
 ],
 "metadata": {
  "kernelspec": {
   "display_name": "Python 3 (ipykernel)",
   "language": "python",
   "name": "python3"
  },
  "language_info": {
   "codemirror_mode": {
    "name": "ipython",
    "version": 3
   },
   "file_extension": ".py",
   "mimetype": "text/x-python",
   "name": "python",
   "nbconvert_exporter": "python",
   "pygments_lexer": "ipython3",
   "version": "3.10.9"
  }
 },
 "nbformat": 4,
 "nbformat_minor": 5
}
